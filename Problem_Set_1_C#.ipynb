{
 "cells": [
  {
   "cell_type": "markdown",
   "id": "5ec625f6",
   "metadata": {},
   "source": [
    "# Question 1"
   ]
  },
  {
   "cell_type": "markdown",
   "id": "e53f6a24",
   "metadata": {},
   "source": [
    "## What data type is each of the following?"
   ]
  },
  {
   "cell_type": "code",
   "execution_count": 8,
   "id": "eca8105d",
   "metadata": {},
   "outputs": [
    {
     "name": "stdout",
     "output_type": "stream",
     "text": [
      "Q1_1 = System.Int32\n",
      "Q1_2 = System.Double\n",
      "Q1_3 = System.Boolean\n",
      "Q1_4 = System.Char\n",
      "Q1_5 = System.Int32\n",
      "Q1_6 = System.Int32\n",
      "Q1_7 = System.Int32\n",
      "Q1_8 = System.Int32[]\n",
      "Q1_9 = System.Boolean\n",
      "Q1_10 = System.Double\n"
     ]
    }
   ],
   "source": [
    "{\n",
    "        int Q1_1 = 5;\n",
    "        double Q1_2 = 5.0;\n",
    "        bool Q1_3 = 5 > 1;\n",
    "        char Q1_4 = '5';\n",
    "        int Q1_5 = 5 * 2;\n",
    "        int Q1_6 = 5 / 2;\n",
    "        int Q1_7 = 5 % 2;\n",
    "        int[] Q1_8 = { 5, 2, 1 };\n",
    "        bool Q1_9 = 5 == 3;\n",
    "        double Q1_10 = Math.PI;\n",
    "\n",
    "        Console.WriteLine(\"Q1_1 = \" +Q1_1.GetType());\n",
    "        Console.WriteLine(\"Q1_2 = \" +Q1_2.GetType());\n",
    "        Console.WriteLine(\"Q1_3 = \" +Q1_3.GetType());\n",
    "        Console.WriteLine(\"Q1_4 = \" +Q1_4.GetType());\n",
    "        Console.WriteLine(\"Q1_5 = \" +Q1_5.GetType());\n",
    "        Console.WriteLine(\"Q1_6 = \" +Q1_6.GetType());\n",
    "        Console.WriteLine(\"Q1_7 = \" +Q1_7.GetType());\n",
    "        Console.WriteLine(\"Q1_8 = \" +Q1_8.GetType());\n",
    "        Console.WriteLine(\"Q1_9 = \" +Q1_9.GetType());\n",
    "        Console.WriteLine(\"Q1_10 = \" +Q1_10.GetType());\n",
    "    }"
   ]
  },
  {
   "cell_type": "markdown",
   "id": "53ce3d18",
   "metadata": {},
   "source": [
    "# Question 2"
   ]
  },
  {
   "cell_type": "markdown",
   "id": "d63f42b4",
   "metadata": {},
   "source": [
    "## a. How many letters are there in 'Supercalifragilisticexpialidocious'?"
   ]
  },
  {
   "cell_type": "code",
   "execution_count": 15,
   "id": "5368973d",
   "metadata": {},
   "outputs": [
    {
     "name": "stdout",
     "output_type": "stream",
     "text": [
      "Number of Letters in the GivenWord: 34\r\n"
     ]
    }
   ],
   "source": [
    "string GivenWord = \"Supercalifragilisticexpialidocious\";\n",
    "\n",
    "int numberOfLetters = GivenWord.Length;\n",
    "\n",
    "Console.WriteLine(\"Number of Letters in the GivenWord: \" + numberOfLetters);"
   ]
  },
  {
   "cell_type": "markdown",
   "id": "11d1f9cc",
   "metadata": {},
   "source": [
    "## b. Does 'Supercalifragilisticexpialidocious' contain 'ice' as a substring?"
   ]
  },
  {
   "cell_type": "code",
   "execution_count": 17,
   "id": "4f19ce4a",
   "metadata": {},
   "outputs": [
    {
     "name": "stdout",
     "output_type": "stream",
     "text": [
      "GivenWord = 'Supercalifragilisticexpialidocious' is contains 'ice' as a substring: True\r\n"
     ]
    }
   ],
   "source": [
    "string GivenWord = \"Supercalifragilisticexpialidocious\";\n",
    "bool containsSubstring = GivenWord.Contains(\"ice\");\n",
    "Console.WriteLine(\"GivenWord = 'Supercalifragilisticexpialidocious' is contains 'ice' as a substring: \" + containsSubstring);"
   ]
  },
  {
   "cell_type": "markdown",
   "id": "98b2f20b",
   "metadata": {},
   "source": [
    "## c. Which of the following words is the longest: Supercalifragilisticexpialidocious, Honorificabilitudinitatibus, or Bababadalgharaghtakamminarronnkonn?"
   ]
  },
  {
   "cell_type": "code",
   "execution_count": 19,
   "id": "cc1942c5",
   "metadata": {},
   "outputs": [
    {
     "name": "stdout",
     "output_type": "stream",
     "text": [
      "The longest word out of all three words is : Supercalifragilisticexpialidocious\r\n"
     ]
    }
   ],
   "source": [
    "string FirstWord = \"Supercalifragilisticexpialidocious\";\n",
    "string SecondWord = \"Honorificabilitudinitatibus\";\n",
    "string ThirdWord = \"Bababadalgharaghtakamminarronnkonn\";\n",
    "string longestWord = \"\";\n",
    "\n",
    "if(FirstWord.Length >= SecondWord.Length && FirstWord.Length >= ThirdWord.Length)\n",
    "{\n",
    "longestWord = FirstWord;\n",
    "}\n",
    "else if (SecondWord.Length >= FirstWord.Length && SecondWord.Length >= ThirdWord.Length)\n",
    "{\n",
    "longestWord = SecondWord;\n",
    "}\n",
    "else \n",
    "{\n",
    "longestWord = ThirdWord;\n",
    "}\n",
    "Console.WriteLine(\"The longest word out of all three words is : \" + longestWord);"
   ]
  },
  {
   "cell_type": "markdown",
   "id": "abbcec51",
   "metadata": {},
   "source": [
    "## d. Which composer comes first in the dictionary: 'Berlioz', 'Borodin', 'Brian', 'Bartok', 'Bellini', 'Buxtehude', 'Bernstein'. Which one comes last?"
   ]
  },
  {
   "cell_type": "code",
   "execution_count": 21,
   "id": "3688c295",
   "metadata": {},
   "outputs": [
    {
     "name": "stdout",
     "output_type": "stream",
     "text": [
      "First composer in the given composers dictionary: Berlioz\n",
      "Last composer in the given composers dictionary: Buxtehude\n"
     ]
    }
   ],
   "source": [
    "{\n",
    "        string[] Givencomposers = { \"Berlioz\", \"Borodin\", \"Brian\", \"Bartok\", \"Bellini\", \"Buxtehude\", \"Bernstein\" };\n",
    "        string firstComposer, lastComposer;\n",
    "\n",
    "        switch (Givencomposers[0])\n",
    "        {\n",
    "            case \"Berlioz\":\n",
    "                firstComposer = Givencomposers[0];\n",
    "                lastComposer = FindLastComposer(Givencomposers, 0);\n",
    "                break;\n",
    "            case \"Borodin\":\n",
    "                firstComposer = \"Berlioz\";\n",
    "                lastComposer = FindLastComposer(Givencomposers, 1);\n",
    "                break;\n",
    "            case \"Brian\":\n",
    "                firstComposer = \"Berlioz\";\n",
    "                lastComposer = FindLastComposer(Givencomposers, 2);\n",
    "                break;\n",
    "            case \"Bartok\":\n",
    "                firstComposer = \"Berlioz\";\n",
    "                lastComposer = FindLastComposer(Givencomposers, 3);\n",
    "                break;\n",
    "            case \"Bellini\":\n",
    "                firstComposer = \"Berlioz\";\n",
    "                lastComposer = FindLastComposer(Givencomposers, 4);\n",
    "                break;\n",
    "            case \"Buxtehude\":\n",
    "                firstComposer = \"Berlioz\";\n",
    "                lastComposer = FindLastComposer(Givencomposers, 5);\n",
    "                break;\n",
    "            case \"Bernstein\":\n",
    "                firstComposer = \"Berlioz\";\n",
    "                lastComposer = Givencomposers[6];\n",
    "                break;\n",
    "            default:\n",
    "                firstComposer = \"Unknown\";\n",
    "                lastComposer = \"Unknown\";\n",
    "                break;\n",
    "        }\n",
    "\n",
    "        Console.WriteLine(\"First composer in the given composers dictionary: \" + firstComposer);\n",
    "        Console.WriteLine(\"Last composer in the given composers dictionary: \" + lastComposer);\n",
    "    }\n",
    "\n",
    "    public static string FindLastComposer(string[] Givencomposers, int startIndex)\n",
    "    {\n",
    "        string lastComposer = Givencomposers[startIndex];\n",
    "        for (int i = startIndex; i < Givencomposers.Length; i++)\n",
    "        {\n",
    "            if (string.Compare(Givencomposers[i], lastComposer) > 0)\n",
    "            {\n",
    "                lastComposer = Givencomposers[i];\n",
    "            }\n",
    "        }\n",
    "        return lastComposer;\n",
    "    }"
   ]
  },
  {
   "cell_type": "markdown",
   "id": "49fd4c58",
   "metadata": {},
   "source": [
    "# Question 3"
   ]
  },
  {
   "cell_type": "markdown",
   "id": "038e859d",
   "metadata": {},
   "source": [
    "## Implement function triangleArea(a,b,c) that takes as input the lengths of the 3 sides of a triangle and returns the area of the triangle. By Heron's formula, the area of a triangle with side lengths a, b, and c is s(s − a)(s − b)(s − c), where s = (a+b+c)/2."
   ]
  },
  {
   "cell_type": "code",
   "execution_count": 10,
   "id": "a92dd30c",
   "metadata": {},
   "outputs": [
    {
     "name": "stdout",
     "output_type": "stream",
     "text": [
      "The area of the triangle: 1.7320508075688772\r\n"
     ]
    }
   ],
   "source": [
    "double TriangleArea(double a, double b, double c)\n",
    "    {\n",
    "        double s = (a + b + c) / 2;\n",
    "        double area = Math.Sqrt(s * (s - a) * (s - b) * (s - c));\n",
    "        return area;\n",
    "    }\n",
    "\n",
    "        double sideA = 2;\n",
    "        double sideB = 2;\n",
    "        double sideC = 2;\n",
    "\n",
    "        double area = TriangleArea(sideA, sideB, sideC);\n",
    "\n",
    "        Console.WriteLine(\"The area of the triangle: \" + area);"
   ]
  },
  {
   "cell_type": "markdown",
   "id": "8506431e",
   "metadata": {},
   "source": [
    "# Question 4"
   ]
  },
  {
   "cell_type": "markdown",
   "id": "91639b50",
   "metadata": {},
   "source": [
    "## Write a program in C# Sharp to separate odd and even integers in separate arrays. Go to the editor\n",
    "## Test Data :\n",
    "## Input the number of elements to be stored in the array :5 Input 5 elements in the array :\n",
    "## element - 0 : 25\n",
    "## element - 1 : 47\n",
    "## element - 2 : 42\n",
    "## element - 3 : 56\n",
    "## element - 4 : 32 Expected Output:\n",
    "## The Even elements are: 42 56 32\n",
    "## The Odd elements are : 25 47"
   ]
  },
  {
   "cell_type": "code",
   "execution_count": 11,
   "id": "4cf4318a",
   "metadata": {},
   "outputs": [
    {
     "name": "stdout",
     "output_type": "stream",
     "text": [
      "Input 5 elements in the array:\n",
      "element - 0 : 25\n",
      "element - 1 : 47\n",
      "element - 2 : 42\n",
      "element - 3 : 56\n",
      "element - 4 : 32\n",
      "The Even Numbers are: 42 56 32 \n",
      "The Odd Numbers are: 25 47 "
     ]
    }
   ],
   "source": [
    "{\n",
    "        int[] array = { 25, 47, 42, 56, 32 };\n",
    "        int size = array.Length;\n",
    "        int[] evenNumber = new int[size];\n",
    "        int[] oddNumber = new int[size];\n",
    "        int evenValue = 0;\n",
    "        int oddValue = 0;\n",
    "\n",
    "        Console.WriteLine($\"Input {size} elements in the array:\");\n",
    "\n",
    "        for (int i = 0; i < size; i++)\n",
    "        {\n",
    "            Console.WriteLine($\"element - {i} : {array[i]}\");\n",
    "\n",
    "            if (array[i] % 2 == 0)\n",
    "            {\n",
    "                evenNumber[evenValue] = array[i];\n",
    "                evenValue++;\n",
    "            }\n",
    "            else\n",
    "            {\n",
    "                oddNumber[oddValue] = array[i];\n",
    "                oddValue++;\n",
    "            }\n",
    "        }\n",
    "\n",
    "        Console.Write(\"The Even Numbers are: \");\n",
    "        for (int i = 0; i < evenValue; i++)\n",
    "        {\n",
    "            Console.Write(evenNumber[i] + \" \");\n",
    "        }\n",
    "\n",
    "        Console.Write(\"\\nThe Odd Numbers are: \");\n",
    "        for (int i = 0; i < oddValue; i++)\n",
    "        {\n",
    "            Console.Write(oddNumber[i] + \" \");\n",
    "        }\n",
    "\n",
    "        Console.ReadLine();\n",
    "    }"
   ]
  },
  {
   "cell_type": "markdown",
   "id": "7eb8aef1",
   "metadata": {},
   "source": [
    "# Question 5"
   ]
  },
  {
   "cell_type": "markdown",
   "id": "84ecabf1",
   "metadata": {},
   "source": [
    "## a. Write a function inside(x,y,x1,y1,x2,y2) that returns True or False depending on whether the point (x,y) lies in the rectangle with lower left corner (x1,y1) and upper right corner (x2,y2).\n",
    "## >>> inside(1,1,0,0,2,3)\n",
    "## True\n",
    "## >>> inside(-1,-1,0,0,2,3)\n",
    "## False"
   ]
  },
  {
   "cell_type": "code",
   "execution_count": 39,
   "id": "4ee196fc",
   "metadata": {},
   "outputs": [
    {
     "name": "stdout",
     "output_type": "stream",
     "text": [
      "True\n",
      "False\n"
     ]
    }
   ],
   "source": [
    "bool Inside(int x, int y, int x1, int y1, int x2, int y2)\n",
    "    {\n",
    "        bool isInsideX = (x >= x1) & (x <= x2);\n",
    "        bool isInsideY = (y >= y1) & (y <= y2);\n",
    "\n",
    "        return isInsideX & isInsideY;\n",
    "    }\n",
    "\n",
    "    {\n",
    "        Console.WriteLine(Inside(1, 1, 0, 0, 2, 3));  \n",
    "        Console.WriteLine(Inside(-1, -1, 0, 0, 2, 3));\n",
    "    }\n",
    "    "
   ]
  },
  {
   "cell_type": "markdown",
   "id": "36f9678e",
   "metadata": {},
   "source": [
    "## b. Use function inside() from part a. to write an expression that tests whether the point (1,1) lies in both of the following rectangles: one with lower left corner (0.3, 0.5) and upper right corner (1.1, 0.7) and the other with lower left corner (0.5, 0.2) and upper right corner (1.1, 2)."
   ]
  },
  {
   "cell_type": "code",
   "execution_count": 44,
   "id": "f19208a0",
   "metadata": {},
   "outputs": [
    {
     "name": "stdout",
     "output_type": "stream",
     "text": [
      "The point (1,1) does not lie in both rectangles.\n",
      "False\n",
      "The point (1,1) lies in both rectangles.\n",
      "True\n"
     ]
    }
   ],
   "source": [
    "bool Inside(int x, int y, int x1, int y1, int x2, int y2)\n",
    "    {\n",
    "        bool isInsideX = (x >= x1) & (x <= x2);\n",
    "        bool isInsideY = (y >= y1) & (y <= y2);\n",
    "        if (isInsideX && isInsideY)\n",
    "            {\n",
    "            Console.WriteLine(\"The point (1,1) lies in both rectangles.\");\n",
    "            return true;\n",
    "            }\n",
    "        else\n",
    "            {\n",
    "            Console.WriteLine(\"The point (1,1) does not lie in both rectangles.\");\n",
    "            return false;\n",
    "            }\n",
    "    }\n",
    "\n",
    "    {\n",
    "        Console.WriteLine(Inside(1, 1, 0.3, 0.5, 1.1, 0.7));  \n",
    "        Console.WriteLine(Inside(1, 1, 0.5, 0.2, 1.1, 2));\n",
    "    }"
   ]
  }
 ],
 "metadata": {
  "kernelspec": {
   "display_name": ".NET (C#)",
   "language": "C#",
   "name": ".net-csharp"
  },
  "language_info": {
   "file_extension": ".cs",
   "mimetype": "text/x-csharp",
   "name": "C#",
   "pygments_lexer": "csharp",
   "version": "11.0"
  }
 },
 "nbformat": 4,
 "nbformat_minor": 5
}
